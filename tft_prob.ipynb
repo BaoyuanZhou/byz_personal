{
 "cells": [
  {
   "cell_type": "code",
   "execution_count": 14,
   "metadata": {},
   "outputs": [
    {
     "name": "stdout",
     "output_type": "stream",
     "text": [
      "total refresh cost: 174.7270880380124\n",
      "total cost: 201.7270880380124\n"
     ]
    }
   ],
   "source": [
    "# Initialize variables\n",
    "total_balls = 234\n",
    "num_1_balls = 18\n",
    "slots = 5\n",
    "prob_slot_has_ball = 0.35\n",
    "refresh_cost = 2\n",
    "ball_cost = 3\n",
    "target_balls = 9\n",
    "total_refreshes = 0\n",
    "\n",
    "# Loop for each Number 1 ball to be bought\n",
    "for i in range(target_balls):\n",
    "    # Calculate expected number of Number 1 balls per refresh\n",
    "    expected_num_1_per_refresh = slots * prob_slot_has_ball * (num_1_balls / total_balls)\n",
    "    \n",
    "    # Calculate expected number of refreshes to get this ball\n",
    "    total_refreshes += 1 / expected_num_1_per_refresh\n",
    "    \n",
    "    # Update counts after buying a Number 1 ball\n",
    "    num_1_balls -= 1\n",
    "    total_balls -= 1\n",
    "\n",
    "# Calculate total costs\n",
    "total_refresh_cost = total_refreshes * refresh_cost\n",
    "total_ball_cost = target_balls * ball_cost\n",
    "total_cost = total_refresh_cost + total_ball_cost\n",
    "\n",
    "print(f\"total refresh cost: {total_refresh_cost}\")\n",
    "print(f\"total cost: {total_cost}\")\n"
   ]
  },
  {
   "cell_type": "code",
   "execution_count": 18,
   "metadata": {},
   "outputs": [
    {
     "name": "stdout",
     "output_type": "stream",
     "text": [
      "total refresh cost: 175.2736507936508\n",
      "total cost: 199.2736507936508\n"
     ]
    }
   ],
   "source": [
    "# Initialize variables\n",
    "other_balls=4*7\n",
    "my_balls=3\n",
    "total_balls = 12*12-other_balls-my_balls\n",
    "num_1_balls = 12-my_balls\n",
    "slots = 5\n",
    "prob_slot_has_ball = 0.25\n",
    "refresh_cost = 2\n",
    "ball_cost = 4\n",
    "target_balls = 9-my_balls\n",
    "total_refreshes = 0\n",
    "\n",
    "# Loop for each Number 1 ball to be bought\n",
    "for i in range(target_balls):\n",
    "    # Calculate expected number of Number 1 balls per refresh\n",
    "    expected_num_1_per_refresh = slots * prob_slot_has_ball * (num_1_balls / total_balls)\n",
    "    \n",
    "    # Calculate expected number of refreshes to get this ball\n",
    "    total_refreshes += 1 / expected_num_1_per_refresh\n",
    "    \n",
    "    # Update counts after buying a Number 1 ball\n",
    "    num_1_balls -= 1\n",
    "    total_balls -= 1\n",
    "\n",
    "# Calculate total costs\n",
    "total_refresh_cost = total_refreshes * refresh_cost\n",
    "total_ball_cost = target_balls * ball_cost\n",
    "total_cost = total_refresh_cost + total_ball_cost\n",
    "\n",
    "print(f\"total refresh cost: {total_refresh_cost}\")\n",
    "print(f\"total cost: {total_cost}\")\n"
   ]
  },
  {
   "cell_type": "code",
   "execution_count": 20,
   "metadata": {},
   "outputs": [
    {
     "name": "stdout",
     "output_type": "stream",
     "text": [
      "total refresh cost: 137.0548752834467\n",
      "total cost: 157.0548752834467\n"
     ]
    }
   ],
   "source": [
    "# Initialize variables\n",
    "other_balls=7*6\n",
    "my_balls=4\n",
    "other_has_my_ball=4\n",
    "total_balls = 18*13-other_balls-my_balls\n",
    "num_1_balls = 18-my_balls-other_has_my_ball\n",
    "slots = 5\n",
    "prob_slot_has_ball = 0.35\n",
    "refresh_cost = 2\n",
    "ball_cost = 4\n",
    "target_balls = 9-my_balls\n",
    "total_refreshes = 0\n",
    "\n",
    "# Loop for each Number 1 ball to be bought\n",
    "for i in range(target_balls):\n",
    "    # Calculate expected number of Number 1 balls per refresh\n",
    "    expected_num_1_per_refresh = slots * prob_slot_has_ball * (num_1_balls / total_balls)\n",
    "    \n",
    "    # Calculate expected number of refreshes to get this ball\n",
    "    total_refreshes += 1 / expected_num_1_per_refresh\n",
    "    \n",
    "    # Update counts after buying a Number 1 ball\n",
    "    num_1_balls -= 1\n",
    "    total_balls -= 1\n",
    "\n",
    "# Calculate total costs\n",
    "total_refresh_cost = total_refreshes * refresh_cost\n",
    "total_ball_cost = target_balls * ball_cost\n",
    "total_cost = total_refresh_cost + total_ball_cost\n",
    "\n",
    "print(f\"total refresh cost: {total_refresh_cost}\")\n",
    "print(f\"total cost: {total_cost}\")\n"
   ]
  },
  {
   "cell_type": "code",
   "execution_count": 26,
   "metadata": {},
   "outputs": [
    {
     "name": "stdout",
     "output_type": "stream",
     "text": [
      "total refresh cost: 483.25714285714287\n",
      "total cost: 503.25714285714287\n"
     ]
    }
   ],
   "source": [
    "# Initialize variables\n",
    "other_balls=7*6\n",
    "my_balls=4\n",
    "other_has_my_ball=0\n",
    "total_balls = 18*13-other_balls-my_balls\n",
    "num_1_balls = 18-my_balls-other_has_my_ball\n",
    "slots = 5\n",
    "prob_slot_has_ball = 0.35\n",
    "refresh_cost = 2\n",
    "ball_cost = 4\n",
    "target_balls = 9-my_balls\n",
    "total_refreshes = 0\n",
    "\n",
    "# Loop for each Number 1 ball to be bought\n",
    "for i in range(target_balls):\n",
    "    # Calculate expected number of Number 1 balls per refresh\n",
    "    expected_num_1_per_refresh = slots * prob_slot_has_ball * (num_1_balls / total_balls)\n",
    "    \n",
    "    # Calculate expected number of refreshes to get this ball\n",
    "    total_refreshes += 1 / expected_num_1_per_refresh\n",
    "    \n",
    "    # Update counts after buying a Number 1 ball\n",
    "    num_1_balls -= 1\n",
    "    total_balls -= 1\n",
    "\n",
    "# Calculate total costs\n",
    "total_refresh_cost = total_refreshes * refresh_cost\n",
    "total_ball_cost = target_balls * ball_cost\n",
    "total_cost = total_refresh_cost + total_ball_cost\n",
    "\n",
    "print(f\"total refresh cost: {total_refresh_cost}\")\n",
    "print(f\"total cost: {total_cost}\")\n"
   ]
  },
  {
   "cell_type": "code",
   "execution_count": 28,
   "metadata": {},
   "outputs": [
    {
     "ename": "ModuleNotFoundError",
     "evalue": "No module named 'matplotlib'",
     "output_type": "error",
     "traceback": [
      "\u001b[1;31m---------------------------------------------------------------------------\u001b[0m",
      "\u001b[1;31mModuleNotFoundError\u001b[0m                       Traceback (most recent call last)",
      "Cell \u001b[1;32mIn[28], line 1\u001b[0m\n\u001b[1;32m----> 1\u001b[0m \u001b[39mimport\u001b[39;00m \u001b[39mmatplotlib\u001b[39;00m\u001b[39m.\u001b[39;00m\u001b[39mpyplot\u001b[39;00m \u001b[39mas\u001b[39;00m \u001b[39mplt\u001b[39;00m\n\u001b[0;32m      3\u001b[0m \u001b[39m# Initialize other constants\u001b[39;00m\n\u001b[0;32m      4\u001b[0m other_balls \u001b[39m=\u001b[39m \u001b[39m7\u001b[39m\u001b[39m*\u001b[39m\u001b[39m6\u001b[39m\n",
      "\u001b[1;31mModuleNotFoundError\u001b[0m: No module named 'matplotlib'"
     ]
    }
   ],
   "source": [
    "import matplotlib.pyplot as plt\n",
    "\n",
    "# Initialize other constants\n",
    "other_balls = 7*6\n",
    "other_has_my_ball = 0\n",
    "slots = 5\n",
    "prob_slot_has_ball = 0.35\n",
    "refresh_cost = 2\n",
    "ball_cost = 3\n",
    "\n",
    "def compute_cost(my_balls):\n",
    "    total_balls = 18*13 - other_balls - my_balls\n",
    "    num_1_balls = 18 - my_balls - other_has_my_ball\n",
    "    target_balls = 9 - my_balls\n",
    "    total_refreshes = 0\n",
    "\n",
    "    # Loop for each Number 1 ball to be bought\n",
    "    for i in range(target_balls):\n",
    "        # Calculate expected number of Number 1 balls per refresh\n",
    "        expected_num_1_per_refresh = slots * prob_slot_has_ball * (num_1_balls / total_balls)\n",
    "    \n",
    "        # Calculate expected number of refreshes to get this ball\n",
    "        total_refreshes += 1 / expected_num_1_per_refresh\n",
    "    \n",
    "        # Update counts after buying a Number 1 ball\n",
    "        num_1_balls -= 1\n",
    "        total_balls -= 1\n",
    "\n",
    "    # Calculate total costs\n",
    "    total_refresh_cost = total_refreshes * refresh_cost\n",
    "    total_ball_cost = target_balls * ball_cost\n",
    "    total_cost = total_refresh_cost + total_ball_cost\n",
    "\n",
    "    return total_cost\n",
    "\n",
    "# Collect data for plot\n",
    "balls = list(range(3, 9))\n",
    "costs = [compute_cost(ball) for ball in balls]\n",
    "\n",
    "# Plot data\n",
    "plt.figure(figsize=(10,6))\n",
    "plt.plot(balls, costs, marker='o')\n",
    "plt.xlabel('Number of My Balls')\n",
    "plt.ylabel('Total Cost ($)')\n",
    "plt.title('Total Cost vs Number of My Balls')\n",
    "plt.grid(True)\n",
    "plt.show()\n"
   ]
  }
 ],
 "metadata": {
  "kernelspec": {
   "display_name": "Python 3",
   "language": "python",
   "name": "python3"
  },
  "language_info": {
   "codemirror_mode": {
    "name": "ipython",
    "version": 3
   },
   "file_extension": ".py",
   "mimetype": "text/x-python",
   "name": "python",
   "nbconvert_exporter": "python",
   "pygments_lexer": "ipython3",
   "version": "3.11.1"
  },
  "orig_nbformat": 4,
  "vscode": {
   "interpreter": {
    "hash": "18288f3804e1c6269a530239623b49c49561b74fa0da91b2aef69d1f54cdbeba"
   }
  }
 },
 "nbformat": 4,
 "nbformat_minor": 2
}
